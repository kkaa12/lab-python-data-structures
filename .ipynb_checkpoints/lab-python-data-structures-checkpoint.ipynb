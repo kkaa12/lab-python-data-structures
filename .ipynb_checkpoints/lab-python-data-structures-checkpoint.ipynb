{
 "cells": [
  {
   "cell_type": "markdown",
   "metadata": {
    "tags": []
   },
   "source": [
    "# Lab | Data Structures "
   ]
  },
  {
   "cell_type": "markdown",
   "metadata": {},
   "source": [
    "## Exercise: Managing Customer Orders\n",
    "\n",
    "As part of a business venture, you are starting an online store that sells various products. To ensure smooth operations, you need to develop a program that manages customer orders and inventory.\n",
    "\n",
    "Follow the steps below to complete the exercise:\n",
    "\n",
    "1. Define a list called `products` that contains the following items: \"t-shirt\", \"mug\", \"hat\", \"book\", \"keychain\".\n",
    "\n",
    "2. Create an empty dictionary called `inventory`.\n",
    "\n",
    "3. Ask the user to input the quantity of each product available in the inventory. Use the product names from the `products` list as keys in the `inventory` dictionary and assign the respective quantities as values.\n",
    "\n",
    "4. Create an empty set called `customer_orders`.\n",
    "\n",
    "5. Ask the user to input the name of three products that a customer wants to order (from those in the products list, meaning three products out of \"t-shirt\", \"mug\", \"hat\", \"book\" or \"keychain\". Add each product name to the `customer_orders` set.\n",
    "\n",
    "6. Print the products in the `customer_orders` set.\n",
    "\n",
    "7. Calculate the following order statistics:\n",
    "   - Total Products Ordered: The total number of products in the `customer_orders` set.\n",
    "   - Percentage of Products Ordered: The percentage of products ordered compared to the total available products.\n",
    "   \n",
    "   Store these statistics in a tuple called `order_status`.\n",
    "\n",
    "8. Print the order statistics using the following format:\n",
    "   ```\n",
    "   Order Statistics:\n",
    "   Total Products Ordered: <total_products_ordered>\n",
    "   Percentage of Products Ordered: <percentage_ordered>% \n",
    "   ```\n",
    "\n",
    "9. Update the inventory by subtracting 1 from the quantity of each product. Modify the `inventory` dictionary accordingly.\n",
    "\n",
    "10. Print the updated inventory, displaying the quantity of each product on separate lines.\n",
    "\n",
    "Solve the exercise by implementing the steps using the Python concepts of lists, dictionaries, sets, and basic input/output operations. "
   ]
  },
  {
   "cell_type": "code",
   "execution_count": 1,
   "metadata": {},
   "outputs": [
    {
     "name": "stdout",
     "output_type": "stream",
     "text": [
      "Enter key: t-shirt\n",
      "Enter value: 8\n",
      "Enter key: mug\n",
      "Enter value: 6\n",
      "Enter key: hat\n",
      "Enter value: 7\n",
      "Enter key: book\n",
      "Enter value: 9\n",
      "Enter key: keychain\n",
      "Enter value: 5\n",
      "{'t-shirt': 8, 'mug': 6, 'hat': 7, 'book': 9, 'keychain': 5}\n",
      "Choose a product you would like to order from this list: ['t-shirt', 'mug', 'hat', 'book', 'keychain']: dress\n",
      "Choice not valid, try again.\n",
      "Choose a product you would like to order from this list: ['t-shirt', 'mug', 'hat', 'book', 'keychain']: t-shirt\n",
      "Choose a product you would like to order from this list: ['t-shirt', 'mug', 'hat', 'book', 'keychain']: socks\n",
      "Choice not valid, try again.\n",
      "Choose a product you would like to order from this list: ['t-shirt', 'mug', 'hat', 'book', 'keychain']: mug\n",
      "Choose a product you would like to order from this list: ['t-shirt', 'mug', 'hat', 'book', 'keychain']: pants\n",
      "Choice not valid, try again.\n",
      "Choose a product you would like to order from this list: ['t-shirt', 'mug', 'hat', 'book', 'keychain']: book\n",
      "Customer orders: {'mug', 'book', 't-shirt'}\n",
      "{'mug', 'book', 't-shirt'}\n"
     ]
    }
   ],
   "source": [
    "products = [\"t-shirt\", \"mug\", \"hat\", \"book\", \"keychain\"]\n",
    "inventory = {}\n",
    "\n",
    "num_entries = 5\n",
    "\n",
    "for i in range(num_entries):\n",
    "    key = input(\"Enter key: \")\n",
    "    value = int(input(\"Enter value: \"))\n",
    "    inventory[key] = value\n",
    "    \n",
    "print(inventory)\n",
    "\n",
    "customer_orders = set()\n",
    "keep_asking = 3\n",
    "\n",
    "while keep_asking != 0:\n",
    "    input_product = input(f\"Choose a product you would like to order from this list: {products}: \")\n",
    "    if input_product in products:\n",
    "        if input_product not in customer_orders:  \n",
    "            customer_orders.add(input_product)  \n",
    "            keep_asking -= 1  \n",
    "        else:\n",
    "            print(\"You've already ordered this product. Please choose a different one.\")\n",
    "    else:\n",
    "        print(\"Choice not valid, try again.\")\n",
    "\n",
    "print(\"Customer orders:\", customer_orders)\n",
    "\n",
    "\n",
    "print(customer_orders)  \n",
    "\n",
    "\n"
   ]
  },
  {
   "cell_type": "code",
   "execution_count": 2,
   "metadata": {},
   "outputs": [
    {
     "name": "stdout",
     "output_type": "stream",
     "text": [
      "Order Statistics:\n",
      "Total Products Ordered: 3\n",
      "Percentage of Products Ordered: 60.00%\n"
     ]
    }
   ],
   "source": [
    "total_products_ordered = len(customer_orders)\n",
    "percentage_ordered = (total_products_ordered / len(products)) * 100\n",
    "\n",
    "print(\"Order Statistics:\")\n",
    "print(f\"Total Products Ordered: {total_products_ordered}\")\n",
    "print(f\"Percentage of Products Ordered: {percentage_ordered:.2f}%\")\n"
   ]
  },
  {
   "cell_type": "code",
   "execution_count": 3,
   "metadata": {},
   "outputs": [
    {
     "name": "stdout",
     "output_type": "stream",
     "text": [
      "{'t-shirt': 7, 'mug': 5, 'hat': 6, 'book': 8, 'keychain': 4}\n"
     ]
    }
   ],
   "source": [
    "for key, value in inventory.items():\n",
    "    inventory[key] = value - 1\n",
    "\n",
    "print(inventory)"
   ]
  }
 ],
 "metadata": {
  "kernelspec": {
   "display_name": "Python 3 (ipykernel)",
   "language": "python",
   "name": "python3"
  },
  "language_info": {
   "codemirror_mode": {
    "name": "ipython",
    "version": 3
   },
   "file_extension": ".py",
   "mimetype": "text/x-python",
   "name": "python",
   "nbconvert_exporter": "python",
   "pygments_lexer": "ipython3",
   "version": "3.11.5"
  }
 },
 "nbformat": 4,
 "nbformat_minor": 4
}
